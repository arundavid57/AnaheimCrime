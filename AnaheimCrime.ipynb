{
 "cells": [
  {
   "cell_type": "markdown",
   "metadata": {
    "collapsed": true
   },
   "source": [
    "# Explore Crime in Anaheim\n",
    "\n",
    "# Synopsis\n",
    "\n",
    "This little project concerns with performing exploratory analysis on criminal arrest log. I decided to do it while staying at my aunt's house in Anaheim, CA. The data obtained from Anaheim Open Data website(http://anaheim.opendata.junar.com/home) and consists of police's arrest log  from May,05 to Jun,04, 2016. Then intend is to do some simple investigation of crimes around my neighborhood and play with Jupyter's markdown functionality. "
   ]
  },
  {
   "cell_type": "markdown",
   "metadata": {},
   "source": [
    "# Read in the data file\n",
    "convert ArrestDate and ArrestTime into a single column \"ArrestDateTime\" and ensure that datetime columns are read in correctly."
   ]
  },
  {
   "cell_type": "code",
   "execution_count": 80,
   "metadata": {
    "collapsed": false
   },
   "outputs": [],
   "source": [
    "%matplotlib inline\n",
    "\n",
    "import pandas as pd\n",
    "import matplotlib.pyplot as plot\n",
    "import seaborn\n",
    "\n",
    "data = pd.read_csv(\"crime05_06.csv\",header = None, names = [\"LocalRef\",\"ArrestDate\",\n",
    "                                                            \"ArrestTime\",\"Charge1Section\",\n",
    "                                                            \"LocalCaseNbr\",\"DOB\",\n",
    "                                                            \"FullName\",\"Sex\",\"Race\"],\n",
    "                                                            parse_dates = {\"ArrestDateTime\":[\"ArrestDate\",\"ArrestTime\"]})\n",
    "\n",
    "\n",
    "data[\"DOB\"] = pd.to_datetime(data[\"DOB\"],format=\"%m/%d/%Y\")"
   ]
  },
  {
   "cell_type": "code",
   "execution_count": 81,
   "metadata": {
    "collapsed": false
   },
   "outputs": [
    {
     "data": {
      "text/plain": [
       "ArrestDateTime    datetime64[ns]\n",
       "LocalRef                  object\n",
       "Charge1Section            object\n",
       "LocalCaseNbr              object\n",
       "DOB               datetime64[ns]\n",
       "FullName                  object\n",
       "Sex                       object\n",
       "Race                      object\n",
       "dtype: object"
      ]
     },
     "execution_count": 81,
     "metadata": {},
     "output_type": "execute_result"
    }
   ],
   "source": [
    "#check that column's type\n",
    "data.dtypes"
   ]
  },
  {
   "cell_type": "markdown",
   "metadata": {},
   "source": [
    "# Explore data"
   ]
  },
  {
   "cell_type": "code",
   "execution_count": 82,
   "metadata": {
    "collapsed": false
   },
   "outputs": [
    {
     "data": {
      "text/html": [
       "<div>\n",
       "<table border=\"1\" class=\"dataframe\">\n",
       "  <thead>\n",
       "    <tr style=\"text-align: right;\">\n",
       "      <th></th>\n",
       "      <th>ArrestDateTime</th>\n",
       "      <th>LocalRef</th>\n",
       "      <th>Charge1Section</th>\n",
       "      <th>LocalCaseNbr</th>\n",
       "      <th>DOB</th>\n",
       "      <th>FullName</th>\n",
       "      <th>Sex</th>\n",
       "      <th>Race</th>\n",
       "    </tr>\n",
       "  </thead>\n",
       "  <tbody>\n",
       "    <tr>\n",
       "      <th>0</th>\n",
       "      <td>2016-06-04 23:59:00</td>\n",
       "      <td>AB 2016-5471</td>\n",
       "      <td>HS 11377(A)</td>\n",
       "      <td>GO 2016-87953</td>\n",
       "      <td>1981-05-08</td>\n",
       "      <td>GONZALES, VALENTINO</td>\n",
       "      <td>M</td>\n",
       "      <td>H</td>\n",
       "    </tr>\n",
       "    <tr>\n",
       "      <th>1</th>\n",
       "      <td>2016-06-04 23:45:00</td>\n",
       "      <td>AB 2016-5470</td>\n",
       "      <td>PC 978.5</td>\n",
       "      <td>GO 2016-87935</td>\n",
       "      <td>1994-06-03</td>\n",
       "      <td>HERNANDEZ, OSCAR VALENTIN</td>\n",
       "      <td>M</td>\n",
       "      <td>H</td>\n",
       "    </tr>\n",
       "    <tr>\n",
       "      <th>2</th>\n",
       "      <td>2016-06-04 23:13:00</td>\n",
       "      <td>AB 2016-5469</td>\n",
       "      <td>HS 11375(B)(2)</td>\n",
       "      <td>GO 2016-87887</td>\n",
       "      <td>1996-01-23</td>\n",
       "      <td>COLLINS, JOSEPH DANIEL</td>\n",
       "      <td>M</td>\n",
       "      <td>B</td>\n",
       "    </tr>\n",
       "    <tr>\n",
       "      <th>3</th>\n",
       "      <td>2016-06-04 23:10:00</td>\n",
       "      <td>AB 2016-5468</td>\n",
       "      <td>PC 647(F)</td>\n",
       "      <td>GO 2016-87887</td>\n",
       "      <td>1988-07-21</td>\n",
       "      <td>SOTO, NICHOLAS JOHNATHAN</td>\n",
       "      <td>M</td>\n",
       "      <td>H</td>\n",
       "    </tr>\n",
       "    <tr>\n",
       "      <th>4</th>\n",
       "      <td>2016-06-04 22:38:00</td>\n",
       "      <td>AB 2016-5467</td>\n",
       "      <td>PC 978.5</td>\n",
       "      <td>GO 2016-87870</td>\n",
       "      <td>1982-11-20</td>\n",
       "      <td>LOPEZ, SAMUEL RUMUELDO</td>\n",
       "      <td>M</td>\n",
       "      <td>H</td>\n",
       "    </tr>\n",
       "  </tbody>\n",
       "</table>\n",
       "</div>"
      ],
      "text/plain": [
       "       ArrestDateTime      LocalRef  Charge1Section   LocalCaseNbr        DOB  \\\n",
       "0 2016-06-04 23:59:00  AB 2016-5471     HS 11377(A)  GO 2016-87953 1981-05-08   \n",
       "1 2016-06-04 23:45:00  AB 2016-5470        PC 978.5  GO 2016-87935 1994-06-03   \n",
       "2 2016-06-04 23:13:00  AB 2016-5469  HS 11375(B)(2)  GO 2016-87887 1996-01-23   \n",
       "3 2016-06-04 23:10:00  AB 2016-5468       PC 647(F)  GO 2016-87887 1988-07-21   \n",
       "4 2016-06-04 22:38:00  AB 2016-5467        PC 978.5  GO 2016-87870 1982-11-20   \n",
       "\n",
       "                    FullName Sex Race  \n",
       "0        GONZALES, VALENTINO   M    H  \n",
       "1  HERNANDEZ, OSCAR VALENTIN   M    H  \n",
       "2     COLLINS, JOSEPH DANIEL   M    B  \n",
       "3   SOTO, NICHOLAS JOHNATHAN   M    H  \n",
       "4     LOPEZ, SAMUEL RUMUELDO   M    H  "
      ]
     },
     "execution_count": 82,
     "metadata": {},
     "output_type": "execute_result"
    }
   ],
   "source": [
    "data.head()"
   ]
  },
  {
   "cell_type": "markdown",
   "metadata": {},
   "source": [
    "771 arrests occured during around 1 month"
   ]
  },
  {
   "cell_type": "code",
   "execution_count": 83,
   "metadata": {
    "collapsed": false
   },
   "outputs": [
    {
     "data": {
      "text/plain": [
       "(771, 8)"
      ]
     },
     "execution_count": 83,
     "metadata": {},
     "output_type": "execute_result"
    }
   ],
   "source": [
    "data.shape"
   ]
  },
  {
   "cell_type": "markdown",
   "metadata": {},
   "source": [
    "# Explore number of arrests, grouped by race"
   ]
  },
  {
   "cell_type": "code",
   "execution_count": 84,
   "metadata": {
    "collapsed": false
   },
   "outputs": [
    {
     "data": {
      "text/plain": [
       "[<matplotlib.text.Text at 0x7f63d7310d10>,\n",
       " <matplotlib.text.Text at 0x7f63d72b1c90>]"
      ]
     },
     "execution_count": 84,
     "metadata": {},
     "output_type": "execute_result"
    },
    {
     "data": {
      "image/png": "[encoded data removed]",
      "text/plain": [
       "<matplotlib.figure.Figure at 0x7f63d7310390>"
      ]
     },
     "metadata": {},
     "output_type": "display_data"
    }
   ],
   "source": [
    "data[\"Race\"].value_counts().plot(kind = \"bar\",title = \"# arrests vs race\").set(xlabel = \"race\",ylabel = \"# arrests\")\n"
   ]
  },
  {
   "cell_type": "markdown",
   "metadata": {},
   "source": [
    "From the hisogram plotted, we can resonably assume that Race \"H\" means \"Hispanic\" race - since they are primary settlers in Anaheim, \"W\" means \"White\" and \"B\" likely means \"Black\". Unfortunately, I can't find the data dictionary so I can't guess beyond these 3 categories(\"A\" probably means \"Asian\"). \n",
    "\n",
    "I decided to focus on these 3 groups"
   ]
  },
  {
   "cell_type": "code",
   "execution_count": 85,
   "metadata": {
    "collapsed": false
   },
   "outputs": [
    {
     "data": {
      "text/plain": [
       "(713, 8)"
      ]
     },
     "execution_count": 85,
     "metadata": {},
     "output_type": "execute_result"
    }
   ],
   "source": [
    "data = data[data[\"Race\"].isin([\"H\",\"W\",\"B\"])]\n",
    "\n",
    "data.shape"
   ]
  },
  {
   "cell_type": "markdown",
   "metadata": {
    "collapsed": true
   },
   "source": [
    "# Explore recurring arrests that occured by the same person"
   ]
  },
  {
   "cell_type": "code",
   "execution_count": 86,
   "metadata": {
    "collapsed": false
   },
   "outputs": [
    {
     "data": {
      "text/plain": [
       "FullName\n",
       "FLORES, JOE ANGEL             4\n",
       "NAVARRO, ROGELIO              3\n",
       "HURST, KIMBERLY JEAN          3\n",
       "LUCERO, JOEY DEAN             3\n",
       "PLASCENCIA, ANTONIO FLORES    2\n",
       "PUENTE, FABIAN                2\n",
       "ALMARAZ, RENE HECTOR          2\n",
       "STEPHENSON, DENNIS SCOTT      2\n",
       "ALONZO, ABIGAIL               2\n",
       "SABROSO, MARIO GUILLERMO      2\n",
       "dtype: int64"
      ]
     },
     "execution_count": 86,
     "metadata": {},
     "output_type": "execute_result"
    }
   ],
   "source": [
    "(data.groupby(\"FullName\").size().sort_values(ascending=False))[0:10]\n"
   ]
  },
  {
   "cell_type": "code",
   "execution_count": 87,
   "metadata": {
    "collapsed": false
   },
   "outputs": [
    {
     "data": {
      "text/html": [
       "<div>\n",
       "<table border=\"1\" class=\"dataframe\">\n",
       "  <thead>\n",
       "    <tr style=\"text-align: right;\">\n",
       "      <th></th>\n",
       "      <th>ArrestDateTime</th>\n",
       "      <th>LocalRef</th>\n",
       "      <th>Charge1Section</th>\n",
       "      <th>LocalCaseNbr</th>\n",
       "      <th>DOB</th>\n",
       "      <th>FullName</th>\n",
       "      <th>Sex</th>\n",
       "      <th>Race</th>\n",
       "    </tr>\n",
       "  </thead>\n",
       "  <tbody>\n",
       "    <tr>\n",
       "      <th>282</th>\n",
       "      <td>2016-05-24 21:45:00</td>\n",
       "      <td>AB 2016-4948</td>\n",
       "      <td>PC 647(F)</td>\n",
       "      <td>GO 2016-81891</td>\n",
       "      <td>1970-03-27</td>\n",
       "      <td>FLORES, JOE ANGEL</td>\n",
       "      <td>M</td>\n",
       "      <td>H</td>\n",
       "    </tr>\n",
       "    <tr>\n",
       "      <th>144</th>\n",
       "      <td>2016-05-30 02:00:00</td>\n",
       "      <td>AB 2016-5136</td>\n",
       "      <td>PC 594</td>\n",
       "      <td>GO 2016-84702</td>\n",
       "      <td>1970-03-27</td>\n",
       "      <td>FLORES, JOE ANGEL</td>\n",
       "      <td>M</td>\n",
       "      <td>H</td>\n",
       "    </tr>\n",
       "    <tr>\n",
       "      <th>66</th>\n",
       "      <td>2016-06-02 20:39:00</td>\n",
       "      <td>AB 2016-5319</td>\n",
       "      <td>PC 647(F)</td>\n",
       "      <td>GO 2016-86708</td>\n",
       "      <td>1970-03-27</td>\n",
       "      <td>FLORES, JOE ANGEL</td>\n",
       "      <td>M</td>\n",
       "      <td>H</td>\n",
       "    </tr>\n",
       "    <tr>\n",
       "      <th>26</th>\n",
       "      <td>2016-06-04 12:35:00</td>\n",
       "      <td>AB 2016-5367</td>\n",
       "      <td>PC 594(B)(2)(A)</td>\n",
       "      <td>GO 2016-87588</td>\n",
       "      <td>1970-03-27</td>\n",
       "      <td>FLORES, JOE ANGEL</td>\n",
       "      <td>M</td>\n",
       "      <td>H</td>\n",
       "    </tr>\n",
       "  </tbody>\n",
       "</table>\n",
       "</div>"
      ],
      "text/plain": [
       "         ArrestDateTime      LocalRef   Charge1Section   LocalCaseNbr  \\\n",
       "282 2016-05-24 21:45:00  AB 2016-4948        PC 647(F)  GO 2016-81891   \n",
       "144 2016-05-30 02:00:00  AB 2016-5136           PC 594  GO 2016-84702   \n",
       "66  2016-06-02 20:39:00  AB 2016-5319        PC 647(F)  GO 2016-86708   \n",
       "26  2016-06-04 12:35:00  AB 2016-5367  PC 594(B)(2)(A)  GO 2016-87588   \n",
       "\n",
       "           DOB           FullName Sex Race  \n",
       "282 1970-03-27  FLORES, JOE ANGEL   M    H  \n",
       "144 1970-03-27  FLORES, JOE ANGEL   M    H  \n",
       "66  1970-03-27  FLORES, JOE ANGEL   M    H  \n",
       "26  1970-03-27  FLORES, JOE ANGEL   M    H  "
      ]
     },
     "execution_count": 87,
     "metadata": {},
     "output_type": "execute_result"
    }
   ],
   "source": [
    "data[data[\"FullName\"] == \"FLORES, JOE ANGEL\"].sort_values(by = \"ArrestDateTime\")"
   ]
  },
  {
   "cell_type": "markdown",
   "metadata": {},
   "source": [
    "Looks like Mr.Flores is very notorious one, consider that he was arrested for 4 times in just one month.\n",
    "\n",
    "Searching over the internet, PC 647 case related to an intoxication and PC 594 related to a small vandalism. They pose little penalty and that explains Mr.Flores's recurring capture.\n",
    "\n"
   ]
  },
  {
   "cell_type": "markdown",
   "metadata": {},
   "source": [
    "# Explore number of arrests by date & time"
   ]
  },
  {
   "cell_type": "code",
   "execution_count": 88,
   "metadata": {
    "collapsed": false
   },
   "outputs": [
    {
     "data": {
      "text/plain": [
       "[<matplotlib.text.Text at 0x7f63d71adf90>,\n",
       " <matplotlib.text.Text at 0x7f63d71c1f10>]"
      ]
     },
     "execution_count": 88,
     "metadata": {},
     "output_type": "execute_result"
    },
    {
     "data": {
      "image/png": "[encoded data removed]",
      "text/plain": [
       "<matplotlib.figure.Figure at 0x7f63d724f090>"
      ]
     },
     "metadata": {},
     "output_type": "display_data"
    }
   ],
   "source": [
    "ts = pd.Series(1,index = data[\"ArrestDateTime\"])\n",
    "ts.resample(\"D\").count().plot(title=\"# arrests by date\").set(xlabel = \"date\",ylabel = \"# arrests\")"
   ]
  },
  {
   "cell_type": "markdown",
   "metadata": {},
   "source": [
    "Explore number of arrests by time of day(0 - 23)"
   ]
  },
  {
   "cell_type": "code",
   "execution_count": 89,
   "metadata": {
    "collapsed": false
   },
   "outputs": [
    {
     "data": {
      "text/plain": [
       "[<matplotlib.text.Text at 0x7f63d7205390>,\n",
       " <matplotlib.text.Text at 0x7f63d707af10>]"
      ]
     },
     "execution_count": 89,
     "metadata": {},
     "output_type": "execute_result"
    },
    {
     "data": {
      "image/png": "[encoded data removed]",
      "text/plain": [
       "<matplotlib.figure.Figure at 0x7f63d71c1190>"
      ]
     },
     "metadata": {},
     "output_type": "display_data"
    }
   ],
   "source": [
    "data.groupby(data[\"ArrestDateTime\"].dt.hour).count()[\"ArrestDateTime\"].plot(kind=\"bar\", title = \"# arrests vs time\").set(xlabel = \"time of day\",ylabel = \"# arrests\")\n"
   ]
  },
  {
   "cell_type": "markdown",
   "metadata": {},
   "source": [
    "Looks like Anaheim polices prefer to arrest their suspects during night time. It also possible that many cases, such as Mr. Flore's, occured and can be arrested during night time as well.\n",
    "\n",
    "Number of arrests appears to drop very half of a month, but we need more data to verify that. Unfortunately, the website only provides data of this period.\n",
    "\n"
   ]
  },
  {
   "cell_type": "markdown",
   "metadata": {},
   "source": [
    "# Explore number of arrests by age"
   ]
  },
  {
   "cell_type": "code",
   "execution_count": 90,
   "metadata": {
    "collapsed": false
   },
   "outputs": [
    {
     "data": {
      "text/plain": [
       "[<matplotlib.text.Text at 0x7f63d708e390>,\n",
       " <matplotlib.text.Text at 0x7f63d6f1ca90>,\n",
       " <matplotlib.text.Text at 0x7f63d6ec45d0>]"
      ]
     },
     "execution_count": 90,
     "metadata": {},
     "output_type": "execute_result"
    },
    {
     "data": {
      "image/png": "[encoded data removed]",
      "text/plain": [
       "<matplotlib.figure.Figure at 0x7f63d71e4450>"
      ]
     },
     "metadata": {},
     "output_type": "display_data"
    }
   ],
   "source": [
    "#transform \"Date of Birth\" to Age\n",
    "import datetime\n",
    "\n",
    "data[\"Age\"] = (data[\"ArrestDateTime\"] - data[\"DOB\"]).astype('timedelta64[Y]')\n",
    "data[\"Age\"].hist().set(title = \"# arrests vs age\",xlabel = \"age\",ylabel = \"# arrests\")"
   ]
  },
  {
   "cell_type": "markdown",
   "metadata": {},
   "source": [
    "Most are in their early adulthood"
   ]
  },
  {
   "cell_type": "markdown",
   "metadata": {},
   "source": [
    "# Explore type of crime occured:"
   ]
  },
  {
   "cell_type": "code",
   "execution_count": 91,
   "metadata": {
    "collapsed": false
   },
   "outputs": [
    {
     "data": {
      "text/plain": [
       "array(['HS 11377(A)', 'PC 978.5', 'HS 11375(B)(2)', 'PC 647(F)',\n",
       "       'BP 22435.2(B)', 'PC 148(A)(1)', 'PC 243(E)(1)', 'PC 245(A)(1)',\n",
       "       'ZZ OAWARR-M', 'ZZ OAWARR-F', 'VC 23152(A)', 'HS 11350(A)',\n",
       "       'PC 602(K)', 'PC 273.5(A)', 'PC 3056', 'PC 242', 'PC 594(B)(2)(A)',\n",
       "       'VC 14601.1(A)', 'HS 11550(A)', 'HS 11364(A)', 'PC 602(O)',\n",
       "       'PC 240', 'PC 459', 'VC 10851(A)', 'PC 647(H)', 'PC 488',\n",
       "       'BP 22435.2(F)', 'VC 20002(A)', 'HS 11378', 'PC 459.5',\n",
       "       'PC 602(L)(1)', 'PC 211', 'PC 236.1(B)', 'PC 148.9(A)', 'PC 3455',\n",
       "       'PC 487(D)', 'PC 3455(A)(4)', 'PC 422', 'PC 594', 'PC 314.1',\n",
       "       'PC 594.2(A)', 'PC 1203.2', 'PC 243(D)', 'PC 594(B)(1)',\n",
       "       'VC 22520.5(A)', 'AC 4.20.030', 'VC 2800.1(A)', 'PC 3454(C)',\n",
       "       'PC 186.22(A)', 'PC 21810', 'PC 236', 'HS 11351', 'PC 487(A)',\n",
       "       'PC 409', 'PC 417(A)(1)', 'PC 594(A)(2)', 'AC 7.16.040.010',\n",
       "       'AC 4.10.010.010', 'PC 484E(C)', 'VC 12500(A)', 'PC 602(M)',\n",
       "       'PC 166(C)(1)', 'VC 23152(E)', 'PC 466', 'PC 273A(B)', 'PC 273D(A)',\n",
       "       'PC 273.6(A)', 'AC 7.16.060', 'PC 602.1(A)', 'PC 21310',\n",
       "       'VC 23103(A)', 'PC 496(A)', 'PC 485', 'PC 288(A)', 'PC 241(C)',\n",
       "       'VC 21200.5', 'BP 25662(A)', 'PC 29800(B)', 'PC 537(A)(1)',\n",
       "       'HS 11379(A)', 'PC 25850(A)', 'HS 11370.1(A)', 'PC 25850(C)(3)',\n",
       "       'PC 25850(C)(2)', 'HS 11352(A)', 'PC 215(A)', 'VC 2800.2(A)',\n",
       "       'PC 187(A)', 'PC 3454', 'PC 266H(A)', 'PC 496(D)', 'PC 236.1(C)',\n",
       "       'PC 182(A)(1)', 'PC 273A(A)', 'PC 21510', 'PC 381B', 'PC 166(A)(9)',\n",
       "       'PC 475(B)', 'PC 243.4(E)(1)', 'PC 646.9(A)', 'PC 496D(A)',\n",
       "       'HS 11359', 'VC 10852', 'PC 529(A)(3)', 'PC 186.22(B)(1)',\n",
       "       'PC 1551(A)'], dtype=object)"
      ]
     },
     "execution_count": 91,
     "metadata": {},
     "output_type": "execute_result"
    }
   ],
   "source": [
    "data[\"Charge1Section\"].unique()"
   ]
  },
  {
   "cell_type": "markdown",
   "metadata": {},
   "source": [
    "\"Charge1Section\" categorizes crime by section and sub-section(for example PC 594 and PC 594(B)(1) belong to the small vandalism, with a bit different degree of penalty). I would like to look at their primary section instead."
   ]
  },
  {
   "cell_type": "code",
   "execution_count": 92,
   "metadata": {
    "collapsed": false
   },
   "outputs": [
    {
     "data": {
      "text/plain": [
       "array(['HS 11377', 'PC 978.5', 'HS 11375', 'PC 647', 'BP 22435.2',\n",
       "       'PC 148', 'PC 243', 'PC 245', 'ZZ OAWARR', 'VC 23152', 'HS 11350',\n",
       "       'PC 602', 'PC 273.5', 'PC 3056', 'PC 242', 'PC 594', 'VC 14601.1',\n",
       "       'HS 11550', 'HS 11364', 'PC 240', 'PC 459', 'VC 10851', 'PC 488',\n",
       "       'VC 20002', 'HS 11378', 'PC 459.5', 'PC 211', 'PC 236.1',\n",
       "       'PC 148.9', 'PC 3455', 'PC 487', 'PC 422', 'PC 314.1', 'PC 594.2',\n",
       "       'PC 1203.2', 'VC 22520.5', 'AC 4.20.030', 'VC 2800.1', 'PC 3454',\n",
       "       'PC 186.22', 'PC 21810', 'PC 236', 'HS 11351', 'PC 409', 'PC 417',\n",
       "       'AC 7.16.040.010', 'AC 4.10.010.010', 'PC 484E', 'VC 12500',\n",
       "       'PC 166', 'PC 466', 'PC 273A', 'PC 273D', 'PC 273.6', 'AC 7.16.060',\n",
       "       'PC 602.1', 'PC 21310', 'VC 23103', 'PC 496', 'PC 485', 'PC 288',\n",
       "       'PC 241', 'VC 21200.5', 'BP 25662', 'PC 29800', 'PC 537',\n",
       "       'HS 11379', 'PC 25850', 'HS 11370.1', 'HS 11352', 'PC 215',\n",
       "       'VC 2800.2', 'PC 187', 'PC 266H', 'PC 182', 'PC 21510', 'PC 381B',\n",
       "       'PC 475', 'PC 243.4', 'PC 646.9', 'PC 496D', 'HS 11359', 'VC 10852',\n",
       "       'PC 529', 'PC 1551'], dtype=object)"
      ]
     },
     "execution_count": 92,
     "metadata": {},
     "output_type": "execute_result"
    }
   ],
   "source": [
    "#group Charge1Section by their primary Charge code\n",
    "import re\n",
    "def cutSubSection(x):\n",
    "    matched = re.search(\"[\\(-]\",x)\n",
    "    if matched:\n",
    "        index = matched.start()    \n",
    "        return x[:index]\n",
    "    return x\n",
    "    \n",
    "data[\"Charge1Section\"] = [cutSubSection(x) for x in data[\"Charge1Section\"]]\n",
    "data[\"Charge1Section\"].unique()"
   ]
  },
  {
   "cell_type": "markdown",
   "metadata": {},
   "source": [
    "Explore number of occurences of each Charge Type"
   ]
  },
  {
   "cell_type": "code",
   "execution_count": 93,
   "metadata": {
    "collapsed": false
   },
   "outputs": [
    {
     "data": {
      "text/plain": [
       "<matplotlib.axes.AxesSubplot at 0x7f63d6ebf9d0>"
      ]
     },
     "execution_count": 93,
     "metadata": {},
     "output_type": "execute_result"
    },
    {
     "data": {
      "image/png": "[encoded data removed]",
      "text/plain": [
       "<matplotlib.figure.Figure at 0x7f63d73cd3d0>"
      ]
     },
     "metadata": {},
     "output_type": "display_data"
    }
   ],
   "source": [
    "data[\"Charge1Section\"].value_counts().plot(kind = \"bar\")\n"
   ]
  },
  {
   "cell_type": "markdown",
   "metadata": {},
   "source": [
    "Looking at only first 15 Charge Type"
   ]
  },
  {
   "cell_type": "code",
   "execution_count": 94,
   "metadata": {
    "collapsed": false
   },
   "outputs": [
    {
     "data": {
      "text/plain": [
       "[<matplotlib.text.Text at 0x7f63d6a54450>,\n",
       " <matplotlib.text.Text at 0x7f63d6a92f90>,\n",
       " <matplotlib.text.Text at 0x7f63d6b43750>]"
      ]
     },
     "execution_count": 94,
     "metadata": {},
     "output_type": "execute_result"
    },
    {
     "data": {
      "image/png": "[encoded data removed]",
      "text/plain": [
       "<matplotlib.figure.Figure at 0x7f63d6a3ca90>"
      ]
     },
     "metadata": {},
     "output_type": "display_data"
    }
   ],
   "source": [
    "data[\"Charge1Section\"].value_counts()[0:15].plot(kind = \"bar\").set(title = \"# arrests vs chargeType\", xlabel = \"chargeType\",ylabel = \"# arrests\")\n"
   ]
  },
  {
   "cell_type": "markdown",
   "metadata": {},
   "source": [
    "The most occuring case is \"ZZ OAWARR\". It apparently relates to mugshot but I can't find the exact definition.\n",
    "<br/>\n",
    "The next 4 most occuring cases:\n",
    "<br/>\n",
    "PC 978.5 - A warrant on person who fail to appear in court(possibly relates to mugshot and \"ZZ OAWARR\"?)\n",
    "<br/>\n",
    "PC 647 - Miscellaneous Offenses: soliciting, sexual harassment, voyeur, etc.\n",
    "<br/>\n",
    "HS 11377 - Possession of controlled substance.\n",
    "<br/>\n",
    "VC 23152 - Driving during intoxication."
   ]
  },
  {
   "cell_type": "markdown",
   "metadata": {},
   "source": [
    "# Explore dependent of variables"
   ]
  },
  {
   "cell_type": "markdown",
   "metadata": {},
   "source": [
    "Chi-square test is performed to find dependency of any 2 category variables\n"
   ]
  },
  {
   "cell_type": "code",
   "execution_count": 95,
   "metadata": {
    "collapsed": false
   },
   "outputs": [
    {
     "data": {
      "text/html": [
       "<div>\n",
       "<table border=\"1\" class=\"dataframe\">\n",
       "  <thead>\n",
       "    <tr style=\"text-align: right;\">\n",
       "      <th></th>\n",
       "      <th>ArrestDateTime</th>\n",
       "      <th>LocalRef</th>\n",
       "      <th>Charge1Section</th>\n",
       "      <th>LocalCaseNbr</th>\n",
       "      <th>DOB</th>\n",
       "      <th>FullName</th>\n",
       "      <th>Sex</th>\n",
       "      <th>Race</th>\n",
       "      <th>Age</th>\n",
       "      <th>AgeStatus</th>\n",
       "    </tr>\n",
       "  </thead>\n",
       "  <tbody>\n",
       "    <tr>\n",
       "      <th>0</th>\n",
       "      <td>2016-06-04 23:59:00</td>\n",
       "      <td>AB 2016-5471</td>\n",
       "      <td>HS 11377</td>\n",
       "      <td>GO 2016-87953</td>\n",
       "      <td>1981-05-08</td>\n",
       "      <td>GONZALES, VALENTINO</td>\n",
       "      <td>M</td>\n",
       "      <td>H</td>\n",
       "      <td>35.0</td>\n",
       "      <td>adult</td>\n",
       "    </tr>\n",
       "    <tr>\n",
       "      <th>1</th>\n",
       "      <td>2016-06-04 23:45:00</td>\n",
       "      <td>AB 2016-5470</td>\n",
       "      <td>PC 978.5</td>\n",
       "      <td>GO 2016-87935</td>\n",
       "      <td>1994-06-03</td>\n",
       "      <td>HERNANDEZ, OSCAR VALENTIN</td>\n",
       "      <td>M</td>\n",
       "      <td>H</td>\n",
       "      <td>22.0</td>\n",
       "      <td>early_adult</td>\n",
       "    </tr>\n",
       "    <tr>\n",
       "      <th>2</th>\n",
       "      <td>2016-06-04 23:13:00</td>\n",
       "      <td>AB 2016-5469</td>\n",
       "      <td>HS 11375</td>\n",
       "      <td>GO 2016-87887</td>\n",
       "      <td>1996-01-23</td>\n",
       "      <td>COLLINS, JOSEPH DANIEL</td>\n",
       "      <td>M</td>\n",
       "      <td>B</td>\n",
       "      <td>20.0</td>\n",
       "      <td>early_adult</td>\n",
       "    </tr>\n",
       "    <tr>\n",
       "      <th>3</th>\n",
       "      <td>2016-06-04 23:10:00</td>\n",
       "      <td>AB 2016-5468</td>\n",
       "      <td>PC 647</td>\n",
       "      <td>GO 2016-87887</td>\n",
       "      <td>1988-07-21</td>\n",
       "      <td>SOTO, NICHOLAS JOHNATHAN</td>\n",
       "      <td>M</td>\n",
       "      <td>H</td>\n",
       "      <td>27.0</td>\n",
       "      <td>early_adult</td>\n",
       "    </tr>\n",
       "    <tr>\n",
       "      <th>4</th>\n",
       "      <td>2016-06-04 22:38:00</td>\n",
       "      <td>AB 2016-5467</td>\n",
       "      <td>PC 978.5</td>\n",
       "      <td>GO 2016-87870</td>\n",
       "      <td>1982-11-20</td>\n",
       "      <td>LOPEZ, SAMUEL RUMUELDO</td>\n",
       "      <td>M</td>\n",
       "      <td>H</td>\n",
       "      <td>33.0</td>\n",
       "      <td>adult</td>\n",
       "    </tr>\n",
       "  </tbody>\n",
       "</table>\n",
       "</div>"
      ],
      "text/plain": [
       "       ArrestDateTime      LocalRef Charge1Section   LocalCaseNbr        DOB  \\\n",
       "0 2016-06-04 23:59:00  AB 2016-5471       HS 11377  GO 2016-87953 1981-05-08   \n",
       "1 2016-06-04 23:45:00  AB 2016-5470       PC 978.5  GO 2016-87935 1994-06-03   \n",
       "2 2016-06-04 23:13:00  AB 2016-5469       HS 11375  GO 2016-87887 1996-01-23   \n",
       "3 2016-06-04 23:10:00  AB 2016-5468         PC 647  GO 2016-87887 1988-07-21   \n",
       "4 2016-06-04 22:38:00  AB 2016-5467       PC 978.5  GO 2016-87870 1982-11-20   \n",
       "\n",
       "                    FullName Sex Race   Age    AgeStatus  \n",
       "0        GONZALES, VALENTINO   M    H  35.0        adult  \n",
       "1  HERNANDEZ, OSCAR VALENTIN   M    H  22.0  early_adult  \n",
       "2     COLLINS, JOSEPH DANIEL   M    B  20.0  early_adult  \n",
       "3   SOTO, NICHOLAS JOHNATHAN   M    H  27.0  early_adult  \n",
       "4     LOPEZ, SAMUEL RUMUELDO   M    H  33.0        adult  "
      ]
     },
     "execution_count": 95,
     "metadata": {},
     "output_type": "execute_result"
    }
   ],
   "source": [
    "#categorize age\n",
    "def binAge(age):\n",
    "    if(age < 10 ):\n",
    "        return \"child\"\n",
    "    if(age < 20 ):\n",
    "        return \"teenager\"\n",
    "    if(age < 30 ):\n",
    "        return \"early_adult\"\n",
    "    if(age < 50 ):\n",
    "        return \"adult\"\n",
    "    if(age < 60 ):\n",
    "        return \"early_senior\"\n",
    "    if(age < 70 ):\n",
    "        return \"senior\"\n",
    "    return \"elder\" \n",
    "    \n",
    "data[\"AgeStatus\"] = [binAge(x) for x in data[\"Age\"]] \n",
    "data.head()"
   ]
  },
  {
   "cell_type": "code",
   "execution_count": 96,
   "metadata": {
    "collapsed": false
   },
   "outputs": [
    {
     "name": "stdout",
     "output_type": "stream",
     "text": [
      "variable Charge1Section and Sex has p-value:0.812440960504\n",
      "variable Charge1Section and Race has p-value:4.2847917206e-05\n",
      "variable Charge1Section and AgeStatus has p-value:0.970841539614\n",
      "variable Sex and Race has p-value:0.00109622917005\n",
      "variable Sex and AgeStatus has p-value:0.44512982122\n",
      "variable Race and AgeStatus has p-value:1.71575258214e-11\n"
     ]
    }
   ],
   "source": [
    "#perform Chi-square test\n",
    "from scipy.stats import chi2_contingency\n",
    "\n",
    "def chisqTest(df, c1, c2):\n",
    "    groupsizes = df.groupby([c1, c2]).size()\n",
    "    ctsum = groupsizes.unstack(c1)\n",
    "    # fillna(0) is necessary to remove any NAs which will cause exceptions\n",
    "    return(chi2_contingency(ctsum.fillna(0)))\n",
    "\n",
    "columns = [\"Charge1Section\",\"Sex\",\"Race\",\"AgeStatus\"]\n",
    "for idx,column in enumerate(columns):\n",
    "    for j in range(idx+1,len(columns)):\n",
    "        pValue = chisqTest(data,column,columns[j])[1]\n",
    "        print(\"variable {0} and {1} has p-value:{2}\".format(column,columns[j],pValue))\n"
   ]
  },
  {
   "cell_type": "markdown",
   "metadata": {},
   "source": [
    "Data appear to have a relationship between Charge1Section & Race, Sex & Race, Race & AgeStatus/Age\n",
    "\n",
    "Let's explore each"
   ]
  },
  {
   "cell_type": "markdown",
   "metadata": {},
   "source": [
    "1) Occurence of each chargeType, according to each race"
   ]
  },
  {
   "cell_type": "code",
   "execution_count": 97,
   "metadata": {
    "collapsed": false
   },
   "outputs": [
    {
     "data": {
      "text/plain": [
       "<matplotlib.axes.AxesSubplot at 0x7f63d6a50290>"
      ]
     },
     "execution_count": 97,
     "metadata": {},
     "output_type": "execute_result"
    },
    {
     "data": {
      "image/png": "[encoded data removed]",
      "text/plain": [
       "<matplotlib.figure.Figure at 0x7f63d6871fd0>"
      ]
     },
     "metadata": {},
     "output_type": "display_data"
    }
   ],
   "source": [
    "import matplotlib.figure as figure\n",
    "\n",
    "plot.subplot(131)  \n",
    "plot.subplots_adjust(right = 4)\n",
    "total_record = data[data[\"Race\"]==\"H\"].shape[0]\n",
    "counts = data[data[\"Race\"]==\"H\"][\"Charge1Section\"].value_counts() * 100.0/ total_record\n",
    "counts[0:10].plot(kind = \"bar\",title = \"% occurence vs chargeType(Hispanic)\")\n",
    "\n",
    "plot.subplot(132)\n",
    "total_record = data[data[\"Race\"]==\"W\"].shape[0]\n",
    "counts = data[data[\"Race\"]==\"W\"][\"Charge1Section\"].value_counts()  * 100.0 / total_record\n",
    "counts[0:10].plot(kind = \"bar\",title = \"% occurence vs chargeType(White)\")\n",
    "\n",
    "plot.subplot(133)\n",
    "total_record = data[data[\"Race\"]==\"B\"].shape[0]\n",
    "counts = data[data[\"Race\"]==\"B\"][\"Charge1Section\"].value_counts()  * 100.0 / total_record\n",
    "counts[0:10].plot(kind = \"bar\",title = \"% occurence vs chargeType(Black)\")\n"
   ]
  },
  {
   "cell_type": "markdown",
   "metadata": {},
   "source": [
    "2) Number of arrested male and female, according to their race"
   ]
  },
  {
   "cell_type": "code",
   "execution_count": 98,
   "metadata": {
    "collapsed": false
   },
   "outputs": [
    {
     "data": {
      "text/plain": [
       "<matplotlib.axes.AxesSubplot at 0x7f63d62e3210>"
      ]
     },
     "execution_count": 98,
     "metadata": {},
     "output_type": "execute_result"
    },
    {
     "data": {
      "image/png": "[encoded data removed]",
      "text/plain": [
       "<matplotlib.figure.Figure at 0x7f63d6871410>"
      ]
     },
     "metadata": {},
     "output_type": "display_data"
    }
   ],
   "source": [
    "plot.subplot(131) \n",
    "data[data[\"Race\"]==\"H\"][\"Sex\"].value_counts().plot(kind = \"bar\",title = \"Hispanic\")\n",
    "plot.subplot(132) \n",
    "data[data[\"Race\"]==\"W\"][\"Sex\"].value_counts().plot(kind = \"bar\",title = \"White\")  \n",
    "plot.subplot(133) \n",
    "data[data[\"Race\"]==\"B\"][\"Sex\"].value_counts().plot(kind = \"bar\",title = \"Black\")  \n"
   ]
  },
  {
   "cell_type": "markdown",
   "metadata": {},
   "source": [
    "3) Number of person in each age that are arrested, according to their race"
   ]
  },
  {
   "cell_type": "code",
   "execution_count": 99,
   "metadata": {
    "collapsed": false
   },
   "outputs": [
    {
     "data": {
      "text/plain": [
       "array([[<matplotlib.axes.AxesSubplot object at 0x7f63d61e8310>,\n",
       "        <matplotlib.axes.AxesSubplot object at 0x7f63d68b9e90>],\n",
       "       [<matplotlib.axes.AxesSubplot object at 0x7f63d600c110>,\n",
       "        <matplotlib.axes.AxesSubplot object at 0x7f63d5ff0590>]], dtype=object)"
      ]
     },
     "execution_count": 99,
     "metadata": {},
     "output_type": "execute_result"
    },
    {
     "data": {
      "image/png": "[encoded data removed]",
      "text/plain": [
       "<matplotlib.figure.Figure at 0x7f63d6a16f50>"
      ]
     },
     "metadata": {},
     "output_type": "display_data"
    }
   ],
   "source": [
    "data.hist(column = \"Age\",by = data[\"Race\"].map(lambda x: \"Hispanic\" if x == \"H\" else (\"White\" if x == \"W\" else \"Black\") ))\n"
   ]
  },
  {
   "cell_type": "markdown",
   "metadata": {},
   "source": [
    "We observe that:\n",
    "<br/>\n",
    "(1) ZZ OAWARR and PC 978.5 are the most common charge case across 3 races, but Hispanic tend to commit both equally.\n",
    "<br/>\n",
    "(2) White female has slightly higher proportion of being arrested, compare to female in another 2 races.\n",
    "<br/>\n",
    "(3) While a large portion of person who are arrested are early-adult(age 20 - 30), the distribution of White arrestees is more uniform from across age 20 to 50"
   ]
  }
 ],
 "metadata": {
  "kernelspec": {
   "display_name": "Python 2",
   "language": "python",
   "name": "python2"
  },
  "language_info": {
   "codemirror_mode": {
    "name": "ipython",
    "version": 2
   },
   "file_extension": ".py",
   "mimetype": "text/x-python",
   "name": "python",
   "nbconvert_exporter": "python",
   "pygments_lexer": "ipython2",
   "version": "2.7.6"
  }
 },
 "nbformat": 4,
 "nbformat_minor": 0
}
